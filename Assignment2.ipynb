{
 "cells": [
  {
   "cell_type": "code",
   "execution_count": 1,
   "metadata": {},
   "outputs": [
    {
     "name": "stdout",
     "output_type": "stream",
     "text": [
      "The original list is : [5, 6, [], 3, [], [], 9]\n",
      "List after empty list removal : [5, 6, 3, 9]\n"
     ]
    }
   ],
   "source": [
    "# Remove empty List from List \n",
    "# using list comprehension \n",
    "  \n",
    "# Initializing list  \n",
    "test_list = [5, 6, [], 3, [], [], 9] \n",
    "  \n",
    "# printing original list  \n",
    "print(\"The original list is : \" + str(test_list)) \n",
    "  \n",
    "# Remove empty List from List \n",
    "# using list comprehension \n",
    "res = [ele for ele in test_list if ele != []] \n",
    "  \n",
    "# printing result  \n",
    "print (\"List after empty list removal : \" + str(res)) "
   ]
  },
  {
   "cell_type": "code",
   "execution_count": 4,
   "metadata": {},
   "outputs": [
    {
     "name": "stdout",
     "output_type": "stream",
     "text": [
      "Python is great and Java also\n"
     ]
    }
   ],
   "source": [
    "# Program for remove Duplicate words\n",
    "s = \"Python is great and Java is also great\"\n",
    "l = s.split() \n",
    "k = [] \n",
    "for i in l: \n",
    "  \n",
    "    # If condition is used to store unique string  \n",
    "    # in another list 'k'  \n",
    "    if (s.count(i)>1 and (i not in k)or s.count(i)==1): \n",
    "        k.append(i) \n",
    "print(' '.join(k))  "
   ]
  },
  {
   "cell_type": "code",
   "execution_count": 8,
   "metadata": {},
   "outputs": [
    {
     "name": "stdout",
     "output_type": "stream",
     "text": [
      "Occurrence of all characters in Nationality is :\n",
      " {'t': 2, 'n': 1, 'i': 2, 'y': 1, 'N': 1, 'a': 2, 'o': 1, 'l': 1}\n"
     ]
    }
   ],
   "source": [
    "# Python3 code to program to find occurrence \n",
    "# to each character in given string \n",
    "  \n",
    "# initializing string  \n",
    "inp_str = \"Nationality\"\n",
    "  \n",
    "# using set() + count() to get count  \n",
    "# of each element in string  \n",
    "out = {x : inp_str.count(x) for x in set(inp_str )}  \n",
    "  \n",
    "# printing result  \n",
    "print (\"Occurrence of all characters in Nationality is :\\n \"+ str(out))  "
   ]
  },
  {
   "cell_type": "code",
   "execution_count": null,
   "metadata": {},
   "outputs": [],
   "source": []
  }
 ],
 "metadata": {
  "kernelspec": {
   "display_name": "Python 3",
   "language": "python",
   "name": "python3"
  },
  "language_info": {
   "codemirror_mode": {
    "name": "ipython",
    "version": 3
   },
   "file_extension": ".py",
   "mimetype": "text/x-python",
   "name": "python",
   "nbconvert_exporter": "python",
   "pygments_lexer": "ipython3",
   "version": "3.8.5"
  }
 },
 "nbformat": 4,
 "nbformat_minor": 4
}
